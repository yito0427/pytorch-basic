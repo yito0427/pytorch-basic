{
 "metadata": {
  "language_info": {
   "codemirror_mode": {
    "name": "ipython",
    "version": 3
   },
   "file_extension": ".py",
   "mimetype": "text/x-python",
   "name": "python",
   "nbconvert_exporter": "python",
   "pygments_lexer": "ipython3",
   "version": "3.7.4-final"
  },
  "orig_nbformat": 2,
  "kernelspec": {
   "name": "python3",
   "display_name": "Python 3",
   "language": "python"
  }
 },
 "nbformat": 4,
 "nbformat_minor": 2,
 "cells": [
  {
   "source": [
    "# pytorch で DL を行う最小限セット\n",
    "reference\n",
    "https://qiita.com/fukuit/items/215ef75113d97560e599#comments"
   ],
   "cell_type": "markdown",
   "metadata": {}
  },
  {
   "cell_type": "code",
   "execution_count": null,
   "metadata": {},
   "outputs": [],
   "source": [
    "import torch.nn as nn\n",
    "import torch.nn.functional as F\n",
    "\n",
    "class Net(nn.Module):\n",
    "    def __init__(self):\n",
    "        super(Net, self).__init__()\n",
    "        self.conv1 = nn.Conv2d(1, 32, 3)\n",
    "        self.conv2 = nn.Conv2d(32, 64, 3)\n",
    "        self.pool = nn.MaxPool2d(2, 2)\n",
    "        self.dropout1 = nn.Dropout2d()\n",
    "        self.fc1 = nn.Linear(9216, 128)\n",
    "        self.dropout2 = nn.Dropout2d()\n",
    "        self.fc2 = nn.Linear(128, 10)\n",
    "\n",
    "    def forward(self, x):\n",
    "        x = F.relu(self.conv1(x))\n",
    "        x = self.pool(F.relu(self.conv2(x)))\n",
    "        x = self.dropout1(x)\n",
    "        x = x.view(-1, 9216)\n",
    "        x = F.relu(self.fc1(x))\n",
    "        x = self.dropout2(x)\n",
    "        x = self.fc2(x)\n",
    "        return x"
   ]
  },
  {
   "cell_type": "code",
   "execution_count": null,
   "metadata": {},
   "outputs": [],
   "source": [
    "'''\n",
    "PyTorch MNIST sample\n",
    "'''\n",
    "import argparse\n",
    "import time\n",
    "import numpy as np\n",
    "\n",
    "import torch\n",
    "import torch.nn as nn\n",
    "import torch.nn.functional as F\n",
    "from torch.utils.data import DataLoader\n",
    "import torchvision\n",
    "import torchvision.transforms as transforms\n",
    "from torchvision.datasets import MNIST\n",
    "import torch.optim as optim\n",
    "\n",
    "from net import Net"
   ]
  },
  {
   "cell_type": "code",
   "execution_count": null,
   "metadata": {},
   "outputs": [],
   "source": [
    "\n",
    "def parser():\n",
    "    '''\n",
    "    argument\n",
    "    '''\n",
    "    parser = argparse.ArgumentParser(description='PyTorch MNIST')\n",
    "    parser.add_argument('--epochs', '-e', type=int, default=2,\n",
    "                        help='number of epochs to train (default: 2)')\n",
    "    parser.add_argument('--lr', '-l', type=float, default=0.01,\n",
    "                        help='learning rate (default: 0.01)')\n",
    "    args = parser.parse_args()\n",
    "    return args"
   ]
  },
  {
   "cell_type": "code",
   "execution_count": null,
   "metadata": {},
   "outputs": [],
   "source": [
    "\n",
    "def main():\n",
    "    '''\n",
    "    main\n",
    "    '''\n",
    "    args = parser()\n",
    "    args.epochs=2\n",
    "    args.lr=0.01\n",
    "\n",
    "\n",
    "    transform = transforms.Compose(\n",
    "        [transforms.ToTensor(),\n",
    "         transforms.Normalize((0.5, ), (0.5, ))])\n",
    "\n",
    "    trainset = MNIST(root='./data',\n",
    "                     train=True,\n",
    "                     download=True,\n",
    "                     transform=transform)\n",
    "    testset = MNIST(root='./data',\n",
    "                    train=False,\n",
    "                    download=True,\n",
    "                    transform=transform)\n",
    "\n",
    "    trainloader = DataLoader(trainset,\n",
    "                             batch_size=100,\n",
    "                             shuffle=True,\n",
    "                             num_workers=2)\n",
    "    testloader = DataLoader(testset,\n",
    "                            batch_size=100,\n",
    "                            shuffle=False,\n",
    "                            num_workers=2)\n",
    "\n",
    "    classes = tuple(np.linspace(0, 9, 10, dtype=np.uint8))\n",
    "\n",
    "    # model\n",
    "    net = Net()\n",
    "\n",
    "    # define loss function and optimier\n",
    "    criterion = nn.CrossEntropyLoss()\n",
    "    optimizer = optim.SGD(net.parameters(),\n",
    "                          lr=args.lr, momentum=0.99, nesterov=True)\n",
    "\n",
    "    # train\n",
    "    for epoch in range(args.epochs):\n",
    "        running_loss = 0.0\n",
    "        for i, (inputs, labels) in enumerate(trainloader, 0):\n",
    "            # zero the parameter gradients\n",
    "            optimizer.zero_grad()\n",
    "\n",
    "            # forward + backward + optimize\n",
    "            outputs = net(inputs)\n",
    "            loss = criterion(outputs, labels)\n",
    "            loss.backward()\n",
    "            optimizer.step()\n",
    "\n",
    "            # print statistics\n",
    "            running_loss += loss.item()\n",
    "            if i % 100 == 99:\n",
    "                print('[{:d}, {:5d}] loss: {:.3f}'\n",
    "                      .format(epoch+1, i+1, running_loss/100))\n",
    "                running_loss = 0.0\n",
    "    print('Finished Training')\n",
    "\n",
    "    # test\n",
    "    correct = 0\n",
    "    total = 0\n",
    "    with torch.no_grad():\n",
    "        for (images, labels) in testloader:\n",
    "            outputs = net(images)\n",
    "            _, predicted = torch.max(outputs.data, 1)\n",
    "            total += labels.size(0)\n",
    "            correct += (predicted == labels).sum().item()\n",
    "    print('Accuracy: {:.2f} %'.format(100 * float(correct/total)))"
   ]
  },
  {
   "cell_type": "code",
   "execution_count": null,
   "metadata": {},
   "outputs": [],
   "source": [
    "#TODO notebookからだと、引数に余分なものを指定してエラーになる。\n",
    "if __name__ == '__main__':\n",
    "    start_time = time.time()\n",
    "    main()\n",
    "    print('elapsed time: {:.3f} [sec]'.format(time.time() - start_time))"
   ]
  },
  {
   "cell_type": "code",
   "execution_count": null,
   "metadata": {},
   "outputs": [],
   "source": []
  },
  {
   "cell_type": "code",
   "execution_count": null,
   "metadata": {},
   "outputs": [],
   "source": [
    "main()"
   ]
  },
  {
   "cell_type": "code",
   "execution_count": null,
   "metadata": {},
   "outputs": [],
   "source": []
  }
 ]
}